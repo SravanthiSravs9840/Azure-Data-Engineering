{
 "cells": [
  {
   "cell_type": "code",
   "execution_count": 0,
   "metadata": {
    "application/vnd.databricks.v1+cell": {
     "cellMetadata": {},
     "inputWidgets": {},
     "nuid": "b8ac369a-2b44-4d8e-b094-508f1c2850cb",
     "showTitle": false,
     "title": ""
    }
   },
   "outputs": [],
   "source": [
    "dbutils.fs.ls('mnt/silver/SalesLT/')"
   ]
  },
  {
   "cell_type": "code",
   "execution_count": 0,
   "metadata": {
    "application/vnd.databricks.v1+cell": {
     "cellMetadata": {},
     "inputWidgets": {},
     "nuid": "6a4fd332-1244-4132-9d1c-f6f41c3f97b8",
     "showTitle": false,
     "title": ""
    }
   },
   "outputs": [],
   "source": [
    "table_name = []\n",
    "for i in dbutils.fs.ls('mnt/silver/SalesLT/'):\n",
    "      table_name.append(i.name.split('/')[0])\n"
   ]
  },
  {
   "cell_type": "code",
   "execution_count": 0,
   "metadata": {
    "application/vnd.databricks.v1+cell": {
     "cellMetadata": {},
     "inputWidgets": {},
     "nuid": "497b4a21-bd83-4791-ac17-d87690d11e48",
     "showTitle": false,
     "title": ""
    }
   },
   "outputs": [],
   "source": [
    "for name in table_name:\n",
    "  path = '/mnt/silver/SalesLT/' + name\n",
    "  print(path)\n",
    "  df = spark.read.format('delta').load(path)\n",
    "\n",
    "  #Get list of column names\n",
    "  column_names = df.columns\n",
    "\n",
    "  for  old_col_name in column_names:\n",
    "    #convert column name from ColumnName to Column_Name format\n",
    "    new_col_name = \"\" .join([\"_\" + char if  char.isupper()  and not old_col_name[i-1].isupper()  else char for i,char in enumerate(old_col_name)]).lstrip(\"_\")\n",
    "\n",
    "    #Change column name using withColumnRenamed and regexp_replace\n",
    "    df= df.withColumnRenamed(old_col_name,new_col_name)\n",
    "\n",
    "  output_path = '/mnt/gold/SalesLT/' +name +'/'\n",
    "  df.write.format('delta').mode(\"overwrite\").save(output_path)\n"
   ]
  },
  {
   "cell_type": "code",
   "execution_count": 0,
   "metadata": {
    "application/vnd.databricks.v1+cell": {
     "cellMetadata": {},
     "inputWidgets": {},
     "nuid": "8c6bc8f7-f2db-4c15-ba27-7d5bb88a218e",
     "showTitle": false,
     "title": ""
    }
   },
   "outputs": [],
   "source": [
    "df = spark.read.format('delta').load('/mnt/silver/SalesLT/Address')"
   ]
  },
  {
   "cell_type": "code",
   "execution_count": 0,
   "metadata": {
    "application/vnd.databricks.v1+cell": {
     "cellMetadata": {},
     "inputWidgets": {},
     "nuid": "61f1064c-9124-4542-b344-539e4368665f",
     "showTitle": false,
     "title": ""
    }
   },
   "outputs": [],
   "source": []
  }
 ],
 "metadata": {
  "application/vnd.databricks.v1+notebook": {
   "dashboards": [],
   "language": "python",
   "notebookMetadata": {},
   "notebookName": "silver to gold",
   "widgets": {}
  }
 },
 "nbformat": 4,
 "nbformat_minor": 0
}
